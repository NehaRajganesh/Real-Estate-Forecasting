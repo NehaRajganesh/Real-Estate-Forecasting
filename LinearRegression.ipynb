{
 "cells": [
  {
   "cell_type": "code",
   "execution_count": 65,
   "id": "852df7ff",
   "metadata": {},
   "outputs": [],
   "source": [
    "#Import necessary libraries \n",
    "import pandas as pd\n",
    "import numpy as np\n",
    "from sklearn.linear_model import LinearRegression\n",
    "from sklearn.model_selection import train_test_split\n",
    "from sklearn.metrics import mean_squared_error"
   ]
  },
  {
   "cell_type": "code",
   "execution_count": 66,
   "id": "cc925a30",
   "metadata": {},
   "outputs": [
    {
     "data": {
      "text/html": [
       "<div>\n",
       "<style scoped>\n",
       "    .dataframe tbody tr th:only-of-type {\n",
       "        vertical-align: middle;\n",
       "    }\n",
       "\n",
       "    .dataframe tbody tr th {\n",
       "        vertical-align: top;\n",
       "    }\n",
       "\n",
       "    .dataframe thead th {\n",
       "        text-align: right;\n",
       "    }\n",
       "</style>\n",
       "<table border=\"1\" class=\"dataframe\">\n",
       "  <thead>\n",
       "    <tr style=\"text-align: right;\">\n",
       "      <th></th>\n",
       "      <th>region_id</th>\n",
       "      <th>region_type_id</th>\n",
       "      <th>region_name</th>\n",
       "      <th>region_type</th>\n",
       "      <th>period_begin</th>\n",
       "      <th>period_end</th>\n",
       "      <th>duration</th>\n",
       "      <th>total_homes_sold</th>\n",
       "      <th>total_homes_sold_yoy</th>\n",
       "      <th>average_homes_sold</th>\n",
       "      <th>...</th>\n",
       "      <th>average_adjustment_average_homes_sold</th>\n",
       "      <th>adjusted_average_homes_sold</th>\n",
       "      <th>average_adjustment_average_new_listings</th>\n",
       "      <th>adjusted_average_new_listings</th>\n",
       "      <th>average_adjustment_pending_sales</th>\n",
       "      <th>adjusted_pending_sales</th>\n",
       "      <th>adjusted_average_homes_delisted_yoy</th>\n",
       "      <th>adjusted_average_homes_sold_yoy</th>\n",
       "      <th>adjusted_average_new_listings_yoy</th>\n",
       "      <th>adjusted_pending_sales_yoy</th>\n",
       "    </tr>\n",
       "  </thead>\n",
       "  <tbody>\n",
       "    <tr>\n",
       "      <th>0</th>\n",
       "      <td>2691</td>\n",
       "      <td>5</td>\n",
       "      <td>Crane County, TX</td>\n",
       "      <td>county</td>\n",
       "      <td>2022-08-15</td>\n",
       "      <td>2022-08-21</td>\n",
       "      <td>1 weeks</td>\n",
       "      <td>NaN</td>\n",
       "      <td>NaN</td>\n",
       "      <td>NaN</td>\n",
       "      <td>...</td>\n",
       "      <td>NaN</td>\n",
       "      <td>NaN</td>\n",
       "      <td>NaN</td>\n",
       "      <td>2.0</td>\n",
       "      <td>NaN</td>\n",
       "      <td>1.0</td>\n",
       "      <td>NaN</td>\n",
       "      <td>NaN</td>\n",
       "      <td>NaN</td>\n",
       "      <td>NaN</td>\n",
       "    </tr>\n",
       "    <tr>\n",
       "      <th>1</th>\n",
       "      <td>2691</td>\n",
       "      <td>5</td>\n",
       "      <td>Crane County, TX</td>\n",
       "      <td>county</td>\n",
       "      <td>2022-05-30</td>\n",
       "      <td>2022-08-21</td>\n",
       "      <td>12 weeks</td>\n",
       "      <td>3.0</td>\n",
       "      <td>-0.571429</td>\n",
       "      <td>1.0</td>\n",
       "      <td>...</td>\n",
       "      <td>NaN</td>\n",
       "      <td>1.0</td>\n",
       "      <td>NaN</td>\n",
       "      <td>1.0</td>\n",
       "      <td>NaN</td>\n",
       "      <td>1.0</td>\n",
       "      <td>NaN</td>\n",
       "      <td>0.0</td>\n",
       "      <td>-0.50</td>\n",
       "      <td>0.0</td>\n",
       "    </tr>\n",
       "    <tr>\n",
       "      <th>2</th>\n",
       "      <td>2691</td>\n",
       "      <td>5</td>\n",
       "      <td>Crane County, TX</td>\n",
       "      <td>county</td>\n",
       "      <td>2022-07-25</td>\n",
       "      <td>2022-08-21</td>\n",
       "      <td>4 weeks</td>\n",
       "      <td>NaN</td>\n",
       "      <td>NaN</td>\n",
       "      <td>NaN</td>\n",
       "      <td>...</td>\n",
       "      <td>NaN</td>\n",
       "      <td>NaN</td>\n",
       "      <td>NaN</td>\n",
       "      <td>2.0</td>\n",
       "      <td>NaN</td>\n",
       "      <td>1.0</td>\n",
       "      <td>NaN</td>\n",
       "      <td>NaN</td>\n",
       "      <td>0.00</td>\n",
       "      <td>0.0</td>\n",
       "    </tr>\n",
       "    <tr>\n",
       "      <th>3</th>\n",
       "      <td>2712</td>\n",
       "      <td>5</td>\n",
       "      <td>Falls County, TX</td>\n",
       "      <td>county</td>\n",
       "      <td>2022-08-15</td>\n",
       "      <td>2022-08-21</td>\n",
       "      <td>1 weeks</td>\n",
       "      <td>NaN</td>\n",
       "      <td>NaN</td>\n",
       "      <td>NaN</td>\n",
       "      <td>...</td>\n",
       "      <td>NaN</td>\n",
       "      <td>NaN</td>\n",
       "      <td>NaN</td>\n",
       "      <td>5.0</td>\n",
       "      <td>NaN</td>\n",
       "      <td>2.0</td>\n",
       "      <td>NaN</td>\n",
       "      <td>NaN</td>\n",
       "      <td>0.25</td>\n",
       "      <td>1.0</td>\n",
       "    </tr>\n",
       "    <tr>\n",
       "      <th>4</th>\n",
       "      <td>2712</td>\n",
       "      <td>5</td>\n",
       "      <td>Falls County, TX</td>\n",
       "      <td>county</td>\n",
       "      <td>2022-05-30</td>\n",
       "      <td>2022-08-21</td>\n",
       "      <td>12 weeks</td>\n",
       "      <td>19.0</td>\n",
       "      <td>-0.095238</td>\n",
       "      <td>2.0</td>\n",
       "      <td>...</td>\n",
       "      <td>NaN</td>\n",
       "      <td>2.0</td>\n",
       "      <td>NaN</td>\n",
       "      <td>2.0</td>\n",
       "      <td>NaN</td>\n",
       "      <td>1.0</td>\n",
       "      <td>0.0</td>\n",
       "      <td>1.0</td>\n",
       "      <td>0.00</td>\n",
       "      <td>0.0</td>\n",
       "    </tr>\n",
       "  </tbody>\n",
       "</table>\n",
       "<p>5 rows × 102 columns</p>\n",
       "</div>"
      ],
      "text/plain": [
       "   region_id  region_type_id       region_name region_type period_begin  \\\n",
       "0       2691               5  Crane County, TX      county   2022-08-15   \n",
       "1       2691               5  Crane County, TX      county   2022-05-30   \n",
       "2       2691               5  Crane County, TX      county   2022-07-25   \n",
       "3       2712               5  Falls County, TX      county   2022-08-15   \n",
       "4       2712               5  Falls County, TX      county   2022-05-30   \n",
       "\n",
       "   period_end  duration  total_homes_sold  total_homes_sold_yoy  \\\n",
       "0  2022-08-21   1 weeks               NaN                   NaN   \n",
       "1  2022-08-21  12 weeks               3.0             -0.571429   \n",
       "2  2022-08-21   4 weeks               NaN                   NaN   \n",
       "3  2022-08-21   1 weeks               NaN                   NaN   \n",
       "4  2022-08-21  12 weeks              19.0             -0.095238   \n",
       "\n",
       "   average_homes_sold  ...  average_adjustment_average_homes_sold  \\\n",
       "0                 NaN  ...                                    NaN   \n",
       "1                 1.0  ...                                    NaN   \n",
       "2                 NaN  ...                                    NaN   \n",
       "3                 NaN  ...                                    NaN   \n",
       "4                 2.0  ...                                    NaN   \n",
       "\n",
       "   adjusted_average_homes_sold  average_adjustment_average_new_listings  \\\n",
       "0                          NaN                                      NaN   \n",
       "1                          1.0                                      NaN   \n",
       "2                          NaN                                      NaN   \n",
       "3                          NaN                                      NaN   \n",
       "4                          2.0                                      NaN   \n",
       "\n",
       "   adjusted_average_new_listings  average_adjustment_pending_sales  \\\n",
       "0                            2.0                               NaN   \n",
       "1                            1.0                               NaN   \n",
       "2                            2.0                               NaN   \n",
       "3                            5.0                               NaN   \n",
       "4                            2.0                               NaN   \n",
       "\n",
       "   adjusted_pending_sales  adjusted_average_homes_delisted_yoy  \\\n",
       "0                     1.0                                  NaN   \n",
       "1                     1.0                                  NaN   \n",
       "2                     1.0                                  NaN   \n",
       "3                     2.0                                  NaN   \n",
       "4                     1.0                                  0.0   \n",
       "\n",
       "   adjusted_average_homes_sold_yoy  adjusted_average_new_listings_yoy  \\\n",
       "0                              NaN                                NaN   \n",
       "1                              0.0                              -0.50   \n",
       "2                              NaN                               0.00   \n",
       "3                              NaN                               0.25   \n",
       "4                              1.0                               0.00   \n",
       "\n",
       "   adjusted_pending_sales_yoy  \n",
       "0                         NaN  \n",
       "1                         0.0  \n",
       "2                         0.0  \n",
       "3                         1.0  \n",
       "4                         0.0  \n",
       "\n",
       "[5 rows x 102 columns]"
      ]
     },
     "execution_count": 66,
     "metadata": {},
     "output_type": "execute_result"
    }
   ],
   "source": [
    "#Read in data\n",
    "df = pd.read_csv(\"texas.csv\")\n",
    "df.head()"
   ]
  },
  {
   "cell_type": "code",
   "execution_count": 67,
   "id": "2a30d66f",
   "metadata": {},
   "outputs": [],
   "source": [
    "# #Print half of the columns\n",
    "# for i in range(int(len(df.columns) / 2)):\n",
    "#     print (df.columns[i])"
   ]
  },
  {
   "cell_type": "markdown",
   "id": "8e9dbdcb",
   "metadata": {},
   "source": [
    "We can't perform linear regression with qualitative data, so first we're going to use the quantitative data. The problem is that there are too many NaN values that the model accuracy becomes very low. If we drop the NaN values, there's not enough data to make a proper model. Instead, we halved the value of quantiative columns, so even though there are Nan values, there's less and a model can actually be made. "
   ]
  },
  {
   "cell_type": "code",
   "execution_count": 68,
   "id": "02d0af1d",
   "metadata": {},
   "outputs": [],
   "source": [
    "#Only select the quantitative columns\n",
    "quantitative_columns = df.select_dtypes(include=['int', 'float'])"
   ]
  },
  {
   "cell_type": "code",
   "execution_count": 69,
   "id": "2218eacd",
   "metadata": {},
   "outputs": [],
   "source": [
    "test_two = quantitative_columns.columns[0:int(len(df.columns) / 2)]\n",
    "df_mod = quantitative_columns[test_two].dropna()"
   ]
  },
  {
   "cell_type": "code",
   "execution_count": 70,
   "id": "c3b4d516",
   "metadata": {},
   "outputs": [],
   "source": [
    "region_type_id = df_mod.loc[:, \"region_type_id\"]\n",
    "total_homes_sold_yoy = df_mod.loc[:, \"total_homes_sold_yoy\"]\n",
    "median_sale_price = df_mod.loc[:, \"median_sale_price\"]\n"
   ]
  },
  {
   "cell_type": "code",
   "execution_count": 71,
   "id": "7ffbe864",
   "metadata": {},
   "outputs": [],
   "source": [
    "# #just an example to see stats using the describe function\n",
    "# df[df[\"region_name\"]==\"crane county, TX\"].describe()"
   ]
  },
  {
   "cell_type": "markdown",
   "id": "cb4efcb9",
   "metadata": {},
   "source": [
    "You can choose any column to put here. Basically we're comapring every other varible in the df_mod data and seeing it's relationshop to the target varible, for example the median sales price of homes. "
   ]
  },
  {
   "cell_type": "code",
   "execution_count": 72,
   "id": "4961c023",
   "metadata": {},
   "outputs": [],
   "source": [
    "#Select a target variable\n",
    "y = df_mod['median_sale_price']  \n",
    "X = df_mod.drop(['median_sale_price'], axis=1)  "
   ]
  },
  {
   "cell_type": "code",
   "execution_count": 73,
   "id": "9d3d8a5c",
   "metadata": {},
   "outputs": [],
   "source": [
    "# 75% train set, 25% test set\n",
    "X_train, X_test, y_train, y_test = train_test_split(X, y, test_size=.25, random_state=42)"
   ]
  },
  {
   "cell_type": "code",
   "execution_count": 74,
   "id": "2ca59656",
   "metadata": {
    "scrolled": true
   },
   "outputs": [],
   "source": [
    "lr = LinearRegression()\n",
    "lr.fit(X_train, y_train)\n",
    "y_pred = lr.predict(X_test)"
   ]
  },
  {
   "cell_type": "markdown",
   "id": "bf6f2a89",
   "metadata": {},
   "source": [
    "### This model performs well, yay!"
   ]
  },
  {
   "cell_type": "code",
   "execution_count": 75,
   "id": "13768a25",
   "metadata": {
    "scrolled": true
   },
   "outputs": [
    {
     "name": "stdout",
     "output_type": "stream",
     "text": [
      "model coefficients: [-1.52027576e-01 -3.03218030e+02  5.42151402e-01 -1.11608884e+04\n",
      "  1.13787802e+02  6.34369730e+03  3.05193388e+00 -1.20762544e+02\n",
      " -2.39295419e+02  1.31609172e+02  5.02004602e+04 -3.48264934e+04\n",
      "  8.69360868e+04  2.08476289e+03 -1.27000035e+05 -3.90008275e+02\n",
      "  3.22367408e+02  5.29648569e+00  5.32959079e+02  2.53451193e+04\n",
      " -3.10201903e+04  1.57107021e+02  4.26404603e+03  9.20671367e+01\n",
      " -9.26320439e+04 -2.41808555e+02 -1.20344229e+03 -2.83720851e+01\n",
      "  7.54800673e+02  3.36147474e+04  8.32380325e+03 -1.90031062e+04\n",
      " -2.63151474e+04 -2.89446295e-02 -5.19848115e+02 -1.97056733e+01\n",
      "  9.26503703e+02  1.42500857e-01 -3.18198006e+04 -5.50839247e+02\n",
      "  6.44951063e+04 -2.28807744e+01  4.04723690e+04 -1.36117383e-01\n",
      " -2.27429916e+05  1.93672024e+01  1.81328914e+05 -6.93789864e+01\n",
      "  7.67656677e+01  2.05002937e+01] \n",
      "\n",
      "R^2: 0.9122608095966863\n",
      "Mean Squared Error: 514443952.1293837\n"
     ]
    }
   ],
   "source": [
    "print('model coefficients:', lr.coef_, '\\n')\n",
    "# R^2 is a measure of how well your model does at predicting the target from the features. \n",
    "print('R^2:', lr.score(X_train, y_train))  \n",
    "print(\"Mean Squared Error:\", mean_squared_error(y_test, y_pred))"
   ]
  },
  {
   "cell_type": "markdown",
   "id": "396dcb8d",
   "metadata": {},
   "source": [
    "### Linear Regression Model after doing One-Hot Encoding"
   ]
  },
  {
   "cell_type": "code",
   "execution_count": 76,
   "id": "81927e32",
   "metadata": {},
   "outputs": [],
   "source": [
    "# Separate the target variable (median_sale_price)\n",
    "target_variable = data['median_sale_price']\n",
    "\n",
    "# Drop the target variable to only process the features\n",
    "data_without_target = data.drop(columns=['median_sale_price'])"
   ]
  },
  {
   "cell_type": "code",
   "execution_count": 77,
   "id": "bbc3a527",
   "metadata": {},
   "outputs": [],
   "source": [
    "# Identify categorical columns and perform one-hot encoding\n",
    "categorical_columns = data_without_target.select_dtypes(include=['object']).columns.tolist()\n",
    "one_hot_data = pd.get_dummies(data_without_target, columns=categorical_columns, drop_first=True)\n",
    "\n",
    "# Extract the total number of columns after one-hot encoding\n",
    "all_columns = one_hot_data.columns.tolist()\n",
    "#print(all_columns)"
   ]
  },
  {
   "cell_type": "code",
   "execution_count": 78,
   "id": "c6e74144",
   "metadata": {},
   "outputs": [],
   "source": [
    "# Determine the number of new columns created by one-hot encoding\n",
    "num_new_columns = len(all_columns) - len(data_without_target.columns)"
   ]
  },
  {
   "cell_type": "code",
   "execution_count": 79,
   "id": "73409b78",
   "metadata": {},
   "outputs": [],
   "source": [
    "# Select half of the newly created columns\n",
    "start_index = len(data_without_target.columns)  # Where new columns start\n",
    "half_point = start_index + num_new_columns // 2\n",
    "\n",
    "selected_columns = all_columns[start_index:half_point]"
   ]
  },
  {
   "cell_type": "code",
   "execution_count": 80,
   "id": "3e2672a5",
   "metadata": {},
   "outputs": [],
   "source": [
    "# Create a new DataFrame with the selected columns\n",
    "half_one_hot_data = one_hot_data[selected_columns]"
   ]
  },
  {
   "cell_type": "code",
   "execution_count": 81,
   "id": "b9cbf389",
   "metadata": {},
   "outputs": [],
   "source": [
    "# Reintroduce the target variable\n",
    "final_data = pd.concat([half_one_hot_data, target_variable], axis=1)\n",
    "\n",
    "# Fix NaN in the target variable by dropping rows with NaN\n",
    "final_data = final_data.dropna(subset=['median_sale_price'])"
   ]
  },
  {
   "cell_type": "code",
   "execution_count": 82,
   "id": "3382865d",
   "metadata": {},
   "outputs": [],
   "source": [
    "# Extract the target variable and features\n",
    "y = final_data['median_sale_price']\n",
    "X = final_data.drop(['median_sale_price'], axis=1)\n",
    "\n",
    "# Split into training and testing sets\n",
    "X_train, X_test, y_train, y_test = train_test_split(X, y, test_size=0.25, random_state=42)"
   ]
  },
  {
   "cell_type": "code",
   "execution_count": 83,
   "id": "7b2f6d25",
   "metadata": {},
   "outputs": [
    {
     "name": "stdout",
     "output_type": "stream",
     "text": [
      "Mean Squared Error: 5997348969.295045\n",
      "R-squared: 0.5365529168996392\n"
     ]
    }
   ],
   "source": [
    "# Fit a linear regression model\n",
    "lr = LinearRegression()\n",
    "lr.fit(X_train, y_train)\n",
    "y_pred = lr.predict(X_test)\n",
    "print(\"Mean Squared Error:\", mean_squared_error(y_test, y_pred))\n",
    "print(\"R-squared:\", r2_score(y_test, y_pred))"
   ]
  },
  {
   "cell_type": "code",
   "execution_count": null,
   "id": "ddd8acbb",
   "metadata": {},
   "outputs": [],
   "source": []
  }
 ],
 "metadata": {
  "kernelspec": {
   "display_name": "Python 3 (ipykernel)",
   "language": "python",
   "name": "python3"
  },
  "language_info": {
   "codemirror_mode": {
    "name": "ipython",
    "version": 3
   },
   "file_extension": ".py",
   "mimetype": "text/x-python",
   "name": "python",
   "nbconvert_exporter": "python",
   "pygments_lexer": "ipython3",
   "version": "3.11.4"
  }
 },
 "nbformat": 4,
 "nbformat_minor": 5
}
